{
 "cells": [
  {
   "cell_type": "markdown",
   "id": "ecea11a1",
   "metadata": {},
   "source": [
    "## Importing Librarires."
   ]
  },
  {
   "cell_type": "code",
   "execution_count": 167,
   "id": "53a56837",
   "metadata": {},
   "outputs": [],
   "source": [
    "## Importing the necessary packages.\n",
    "import numpy as np\n",
    "import pandas as pd\n",
    "import seaborn as sns\n",
    "\n",
    "from sklearn import preprocessing\n",
    "from statsmodels.stats.outliers_influence import variance_inflation_factor\n",
    "import matplotlib.pyplot as plt\n",
    "from sklearn.model_selection import train_test_split\n",
    "from sklearn.ensemble import RandomForestRegressor\n",
    "from sklearn.metrics import r2_score"
   ]
  },
  {
   "cell_type": "code",
   "execution_count": 168,
   "id": "0bfeaa75",
   "metadata": {},
   "outputs": [],
   "source": [
    "## Ignore Warnings\n",
    "import warnings\n",
    "warnings.filterwarnings(\"ignore\")"
   ]
  },
  {
   "cell_type": "markdown",
   "id": "e3075519",
   "metadata": {},
   "source": [
    "## Reading and Understanding the csv file."
   ]
  },
  {
   "cell_type": "code",
   "execution_count": 169,
   "id": "cf9c0c52",
   "metadata": {},
   "outputs": [],
   "source": [
    "lap_data= pd.read_csv(r\"C:\\Users\\Rushab\\Documents\\Kalpatru_project\\laptop_pricing.csv\")"
   ]
  },
  {
   "cell_type": "code",
   "execution_count": 170,
   "id": "d5414a88",
   "metadata": {},
   "outputs": [
    {
     "data": {
      "text/html": [
       "<div>\n",
       "<style scoped>\n",
       "    .dataframe tbody tr th:only-of-type {\n",
       "        vertical-align: middle;\n",
       "    }\n",
       "\n",
       "    .dataframe tbody tr th {\n",
       "        vertical-align: top;\n",
       "    }\n",
       "\n",
       "    .dataframe thead th {\n",
       "        text-align: right;\n",
       "    }\n",
       "</style>\n",
       "<table border=\"1\" class=\"dataframe\">\n",
       "  <thead>\n",
       "    <tr style=\"text-align: right;\">\n",
       "      <th></th>\n",
       "      <th>Manufacturer</th>\n",
       "      <th>IntelCore(i-)</th>\n",
       "      <th>IntelCoreGen</th>\n",
       "      <th>processing speed(GHz)</th>\n",
       "      <th>Ram(gb)</th>\n",
       "      <th>HDD(gb)</th>\n",
       "      <th>SSD(gb)</th>\n",
       "      <th>Graphics(gb)</th>\n",
       "      <th>ScreenSize(inch)</th>\n",
       "      <th>Price</th>\n",
       "    </tr>\n",
       "  </thead>\n",
       "  <tbody>\n",
       "    <tr>\n",
       "      <th>0</th>\n",
       "      <td>Dell</td>\n",
       "      <td>3</td>\n",
       "      <td>7</td>\n",
       "      <td>2.29</td>\n",
       "      <td>4</td>\n",
       "      <td>1000</td>\n",
       "      <td>0</td>\n",
       "      <td>0</td>\n",
       "      <td>15.6</td>\n",
       "      <td>39057</td>\n",
       "    </tr>\n",
       "    <tr>\n",
       "      <th>1</th>\n",
       "      <td>Dell</td>\n",
       "      <td>3</td>\n",
       "      <td>7</td>\n",
       "      <td>2.30</td>\n",
       "      <td>4</td>\n",
       "      <td>1000</td>\n",
       "      <td>0</td>\n",
       "      <td>0</td>\n",
       "      <td>15.6</td>\n",
       "      <td>45141</td>\n",
       "    </tr>\n",
       "    <tr>\n",
       "      <th>2</th>\n",
       "      <td>HP</td>\n",
       "      <td>3</td>\n",
       "      <td>7</td>\n",
       "      <td>2.30</td>\n",
       "      <td>8</td>\n",
       "      <td>256</td>\n",
       "      <td>256</td>\n",
       "      <td>0</td>\n",
       "      <td>14.0</td>\n",
       "      <td>35999</td>\n",
       "    </tr>\n",
       "    <tr>\n",
       "      <th>3</th>\n",
       "      <td>ASUS</td>\n",
       "      <td>3</td>\n",
       "      <td>7</td>\n",
       "      <td>2.30</td>\n",
       "      <td>4</td>\n",
       "      <td>1000</td>\n",
       "      <td>0</td>\n",
       "      <td>0</td>\n",
       "      <td>14.0</td>\n",
       "      <td>39990</td>\n",
       "    </tr>\n",
       "    <tr>\n",
       "      <th>4</th>\n",
       "      <td>HP</td>\n",
       "      <td>3</td>\n",
       "      <td>7</td>\n",
       "      <td>2.40</td>\n",
       "      <td>4</td>\n",
       "      <td>1000</td>\n",
       "      <td>0</td>\n",
       "      <td>0</td>\n",
       "      <td>15.6</td>\n",
       "      <td>36263</td>\n",
       "    </tr>\n",
       "    <tr>\n",
       "      <th>5</th>\n",
       "      <td>HP</td>\n",
       "      <td>2</td>\n",
       "      <td>4</td>\n",
       "      <td>2.30</td>\n",
       "      <td>4</td>\n",
       "      <td>500</td>\n",
       "      <td>256</td>\n",
       "      <td>0</td>\n",
       "      <td>14.0</td>\n",
       "      <td>26403</td>\n",
       "    </tr>\n",
       "    <tr>\n",
       "      <th>6</th>\n",
       "      <td>Lenovo</td>\n",
       "      <td>3</td>\n",
       "      <td>7</td>\n",
       "      <td>2.30</td>\n",
       "      <td>4</td>\n",
       "      <td>1000</td>\n",
       "      <td>0</td>\n",
       "      <td>0</td>\n",
       "      <td>15.6</td>\n",
       "      <td>38290</td>\n",
       "    </tr>\n",
       "    <tr>\n",
       "      <th>7</th>\n",
       "      <td>HP</td>\n",
       "      <td>5</td>\n",
       "      <td>8</td>\n",
       "      <td>1.60</td>\n",
       "      <td>8</td>\n",
       "      <td>1000</td>\n",
       "      <td>0</td>\n",
       "      <td>0</td>\n",
       "      <td>14.0</td>\n",
       "      <td>53554</td>\n",
       "    </tr>\n",
       "    <tr>\n",
       "      <th>8</th>\n",
       "      <td>Lenovo</td>\n",
       "      <td>1</td>\n",
       "      <td>3</td>\n",
       "      <td>1.80</td>\n",
       "      <td>4</td>\n",
       "      <td>1000</td>\n",
       "      <td>0</td>\n",
       "      <td>0</td>\n",
       "      <td>15.6</td>\n",
       "      <td>29990</td>\n",
       "    </tr>\n",
       "    <tr>\n",
       "      <th>9</th>\n",
       "      <td>Dell</td>\n",
       "      <td>3</td>\n",
       "      <td>8</td>\n",
       "      <td>3.90</td>\n",
       "      <td>4</td>\n",
       "      <td>1000</td>\n",
       "      <td>0</td>\n",
       "      <td>0</td>\n",
       "      <td>14.0</td>\n",
       "      <td>38090</td>\n",
       "    </tr>\n",
       "    <tr>\n",
       "      <th>10</th>\n",
       "      <td>HP</td>\n",
       "      <td>3</td>\n",
       "      <td>7</td>\n",
       "      <td>2.30</td>\n",
       "      <td>8</td>\n",
       "      <td>1000</td>\n",
       "      <td>0</td>\n",
       "      <td>0</td>\n",
       "      <td>15.6</td>\n",
       "      <td>42192</td>\n",
       "    </tr>\n",
       "    <tr>\n",
       "      <th>11</th>\n",
       "      <td>Lenovo</td>\n",
       "      <td>2</td>\n",
       "      <td>5</td>\n",
       "      <td>2.30</td>\n",
       "      <td>4</td>\n",
       "      <td>1000</td>\n",
       "      <td>0</td>\n",
       "      <td>0</td>\n",
       "      <td>15.6</td>\n",
       "      <td>34890</td>\n",
       "    </tr>\n",
       "    <tr>\n",
       "      <th>12</th>\n",
       "      <td>HP</td>\n",
       "      <td>3</td>\n",
       "      <td>7</td>\n",
       "      <td>2.30</td>\n",
       "      <td>4</td>\n",
       "      <td>1000</td>\n",
       "      <td>0</td>\n",
       "      <td>0</td>\n",
       "      <td>14.0</td>\n",
       "      <td>33905</td>\n",
       "    </tr>\n",
       "    <tr>\n",
       "      <th>13</th>\n",
       "      <td>Lenovo</td>\n",
       "      <td>3</td>\n",
       "      <td>8</td>\n",
       "      <td>2.10</td>\n",
       "      <td>4</td>\n",
       "      <td>1000</td>\n",
       "      <td>0</td>\n",
       "      <td>0</td>\n",
       "      <td>15.6</td>\n",
       "      <td>42590</td>\n",
       "    </tr>\n",
       "    <tr>\n",
       "      <th>14</th>\n",
       "      <td>Lenovo</td>\n",
       "      <td>3</td>\n",
       "      <td>8</td>\n",
       "      <td>2.10</td>\n",
       "      <td>8</td>\n",
       "      <td>1000</td>\n",
       "      <td>0</td>\n",
       "      <td>0</td>\n",
       "      <td>15.6</td>\n",
       "      <td>45390</td>\n",
       "    </tr>\n",
       "    <tr>\n",
       "      <th>15</th>\n",
       "      <td>HP</td>\n",
       "      <td>3</td>\n",
       "      <td>7</td>\n",
       "      <td>2.30</td>\n",
       "      <td>8</td>\n",
       "      <td>1000</td>\n",
       "      <td>0</td>\n",
       "      <td>0</td>\n",
       "      <td>15.6</td>\n",
       "      <td>40338</td>\n",
       "    </tr>\n",
       "    <tr>\n",
       "      <th>16</th>\n",
       "      <td>ASUS</td>\n",
       "      <td>5</td>\n",
       "      <td>8</td>\n",
       "      <td>1.60</td>\n",
       "      <td>8</td>\n",
       "      <td>512</td>\n",
       "      <td>512</td>\n",
       "      <td>0</td>\n",
       "      <td>15.6</td>\n",
       "      <td>56990</td>\n",
       "    </tr>\n",
       "    <tr>\n",
       "      <th>17</th>\n",
       "      <td>Lenovo</td>\n",
       "      <td>1</td>\n",
       "      <td>3</td>\n",
       "      <td>1.80</td>\n",
       "      <td>4</td>\n",
       "      <td>1000</td>\n",
       "      <td>0</td>\n",
       "      <td>0</td>\n",
       "      <td>15.6</td>\n",
       "      <td>30690</td>\n",
       "    </tr>\n",
       "    <tr>\n",
       "      <th>18</th>\n",
       "      <td>HP</td>\n",
       "      <td>3</td>\n",
       "      <td>7</td>\n",
       "      <td>2.40</td>\n",
       "      <td>4</td>\n",
       "      <td>1000</td>\n",
       "      <td>0</td>\n",
       "      <td>0</td>\n",
       "      <td>15.6</td>\n",
       "      <td>35634</td>\n",
       "    </tr>\n",
       "    <tr>\n",
       "      <th>19</th>\n",
       "      <td>HP</td>\n",
       "      <td>5</td>\n",
       "      <td>9</td>\n",
       "      <td>2.40</td>\n",
       "      <td>8</td>\n",
       "      <td>1000</td>\n",
       "      <td>256</td>\n",
       "      <td>4</td>\n",
       "      <td>15.6</td>\n",
       "      <td>74931</td>\n",
       "    </tr>\n",
       "    <tr>\n",
       "      <th>20</th>\n",
       "      <td>ASUS</td>\n",
       "      <td>5</td>\n",
       "      <td>9</td>\n",
       "      <td>2.10</td>\n",
       "      <td>8</td>\n",
       "      <td>1000</td>\n",
       "      <td>512</td>\n",
       "      <td>4</td>\n",
       "      <td>15.6</td>\n",
       "      <td>97990</td>\n",
       "    </tr>\n",
       "    <tr>\n",
       "      <th>21</th>\n",
       "      <td>HP</td>\n",
       "      <td>5</td>\n",
       "      <td>9</td>\n",
       "      <td>2.40</td>\n",
       "      <td>8</td>\n",
       "      <td>1000</td>\n",
       "      <td>0</td>\n",
       "      <td>4</td>\n",
       "      <td>15.6</td>\n",
       "      <td>69071</td>\n",
       "    </tr>\n",
       "    <tr>\n",
       "      <th>22</th>\n",
       "      <td>ASUS</td>\n",
       "      <td>7</td>\n",
       "      <td>8</td>\n",
       "      <td>2.20</td>\n",
       "      <td>8</td>\n",
       "      <td>1000</td>\n",
       "      <td>16</td>\n",
       "      <td>4</td>\n",
       "      <td>15.6</td>\n",
       "      <td>109999</td>\n",
       "    </tr>\n",
       "    <tr>\n",
       "      <th>23</th>\n",
       "      <td>Lenovo</td>\n",
       "      <td>7</td>\n",
       "      <td>9</td>\n",
       "      <td>2.60</td>\n",
       "      <td>8</td>\n",
       "      <td>1000</td>\n",
       "      <td>256</td>\n",
       "      <td>4</td>\n",
       "      <td>15.6</td>\n",
       "      <td>118890</td>\n",
       "    </tr>\n",
       "    <tr>\n",
       "      <th>24</th>\n",
       "      <td>Lenovo</td>\n",
       "      <td>7</td>\n",
       "      <td>9</td>\n",
       "      <td>2.60</td>\n",
       "      <td>16</td>\n",
       "      <td>1000</td>\n",
       "      <td>256</td>\n",
       "      <td>4</td>\n",
       "      <td>15.6</td>\n",
       "      <td>128690</td>\n",
       "    </tr>\n",
       "    <tr>\n",
       "      <th>25</th>\n",
       "      <td>Lenovo</td>\n",
       "      <td>7</td>\n",
       "      <td>9</td>\n",
       "      <td>2.60</td>\n",
       "      <td>8</td>\n",
       "      <td>1000</td>\n",
       "      <td>512</td>\n",
       "      <td>4</td>\n",
       "      <td>15.6</td>\n",
       "      <td>118890</td>\n",
       "    </tr>\n",
       "    <tr>\n",
       "      <th>26</th>\n",
       "      <td>Lenovo</td>\n",
       "      <td>5</td>\n",
       "      <td>9</td>\n",
       "      <td>2.40</td>\n",
       "      <td>8</td>\n",
       "      <td>1000</td>\n",
       "      <td>256</td>\n",
       "      <td>3</td>\n",
       "      <td>15.6</td>\n",
       "      <td>92990</td>\n",
       "    </tr>\n",
       "    <tr>\n",
       "      <th>27</th>\n",
       "      <td>ASUS</td>\n",
       "      <td>7</td>\n",
       "      <td>9</td>\n",
       "      <td>2.60</td>\n",
       "      <td>32</td>\n",
       "      <td>1000</td>\n",
       "      <td>512</td>\n",
       "      <td>8</td>\n",
       "      <td>17.3</td>\n",
       "      <td>402990</td>\n",
       "    </tr>\n",
       "    <tr>\n",
       "      <th>28</th>\n",
       "      <td>HP</td>\n",
       "      <td>7</td>\n",
       "      <td>9</td>\n",
       "      <td>2.60</td>\n",
       "      <td>8</td>\n",
       "      <td>1000</td>\n",
       "      <td>256</td>\n",
       "      <td>4</td>\n",
       "      <td>15.6</td>\n",
       "      <td>99555</td>\n",
       "    </tr>\n",
       "  </tbody>\n",
       "</table>\n",
       "</div>"
      ],
      "text/plain": [
       "   Manufacturer  IntelCore(i-)  IntelCoreGen  processing speed(GHz)  Ram(gb)  \\\n",
       "0          Dell              3             7                   2.29        4   \n",
       "1          Dell              3             7                   2.30        4   \n",
       "2            HP              3             7                   2.30        8   \n",
       "3          ASUS              3             7                   2.30        4   \n",
       "4            HP              3             7                   2.40        4   \n",
       "5            HP              2             4                   2.30        4   \n",
       "6        Lenovo              3             7                   2.30        4   \n",
       "7            HP              5             8                   1.60        8   \n",
       "8        Lenovo              1             3                   1.80        4   \n",
       "9          Dell              3             8                   3.90        4   \n",
       "10           HP              3             7                   2.30        8   \n",
       "11       Lenovo              2             5                   2.30        4   \n",
       "12           HP              3             7                   2.30        4   \n",
       "13       Lenovo              3             8                   2.10        4   \n",
       "14       Lenovo              3             8                   2.10        8   \n",
       "15           HP              3             7                   2.30        8   \n",
       "16         ASUS              5             8                   1.60        8   \n",
       "17       Lenovo              1             3                   1.80        4   \n",
       "18           HP              3             7                   2.40        4   \n",
       "19           HP              5             9                   2.40        8   \n",
       "20         ASUS              5             9                   2.10        8   \n",
       "21           HP              5             9                   2.40        8   \n",
       "22         ASUS              7             8                   2.20        8   \n",
       "23       Lenovo              7             9                   2.60        8   \n",
       "24       Lenovo              7             9                   2.60       16   \n",
       "25       Lenovo              7             9                   2.60        8   \n",
       "26       Lenovo              5             9                   2.40        8   \n",
       "27         ASUS              7             9                   2.60       32   \n",
       "28           HP              7             9                   2.60        8   \n",
       "\n",
       "    HDD(gb)  SSD(gb)  Graphics(gb)  ScreenSize(inch)   Price  \n",
       "0      1000        0             0              15.6   39057  \n",
       "1      1000        0             0              15.6   45141  \n",
       "2       256      256             0              14.0   35999  \n",
       "3      1000        0             0              14.0   39990  \n",
       "4      1000        0             0              15.6   36263  \n",
       "5       500      256             0              14.0   26403  \n",
       "6      1000        0             0              15.6   38290  \n",
       "7      1000        0             0              14.0   53554  \n",
       "8      1000        0             0              15.6   29990  \n",
       "9      1000        0             0              14.0   38090  \n",
       "10     1000        0             0              15.6   42192  \n",
       "11     1000        0             0              15.6   34890  \n",
       "12     1000        0             0              14.0   33905  \n",
       "13     1000        0             0              15.6   42590  \n",
       "14     1000        0             0              15.6   45390  \n",
       "15     1000        0             0              15.6   40338  \n",
       "16      512      512             0              15.6   56990  \n",
       "17     1000        0             0              15.6   30690  \n",
       "18     1000        0             0              15.6   35634  \n",
       "19     1000      256             4              15.6   74931  \n",
       "20     1000      512             4              15.6   97990  \n",
       "21     1000        0             4              15.6   69071  \n",
       "22     1000       16             4              15.6  109999  \n",
       "23     1000      256             4              15.6  118890  \n",
       "24     1000      256             4              15.6  128690  \n",
       "25     1000      512             4              15.6  118890  \n",
       "26     1000      256             3              15.6   92990  \n",
       "27     1000      512             8              17.3  402990  \n",
       "28     1000      256             4              15.6   99555  "
      ]
     },
     "execution_count": 170,
     "metadata": {},
     "output_type": "execute_result"
    }
   ],
   "source": [
    "## Analyzing the fiest 10 rows of the dataframe.\n",
    "lap_data.head(30)"
   ]
  },
  {
   "cell_type": "code",
   "execution_count": 171,
   "id": "4c9232a8",
   "metadata": {},
   "outputs": [
    {
     "data": {
      "text/plain": [
       "(29, 10)"
      ]
     },
     "execution_count": 171,
     "metadata": {},
     "output_type": "execute_result"
    }
   ],
   "source": [
    "## Checking the shape of the dataframe.\n",
    "lap_data.shape"
   ]
  },
  {
   "cell_type": "code",
   "execution_count": 172,
   "id": "f54965a0",
   "metadata": {},
   "outputs": [
    {
     "name": "stdout",
     "output_type": "stream",
     "text": [
      "<class 'pandas.core.frame.DataFrame'>\n",
      "RangeIndex: 29 entries, 0 to 28\n",
      "Data columns (total 10 columns):\n",
      " #   Column                 Non-Null Count  Dtype  \n",
      "---  ------                 --------------  -----  \n",
      " 0   Manufacturer           29 non-null     object \n",
      " 1   IntelCore(i-)          29 non-null     int64  \n",
      " 2   IntelCoreGen           29 non-null     int64  \n",
      " 3   processing speed(GHz)  29 non-null     float64\n",
      " 4   Ram(gb)                29 non-null     int64  \n",
      " 5   HDD(gb)                29 non-null     int64  \n",
      " 6   SSD(gb)                29 non-null     int64  \n",
      " 7   Graphics(gb)           29 non-null     int64  \n",
      " 8   ScreenSize(inch)       29 non-null     float64\n",
      " 9   Price                  29 non-null     int64  \n",
      "dtypes: float64(2), int64(7), object(1)\n",
      "memory usage: 2.4+ KB\n"
     ]
    }
   ],
   "source": [
    "## Checking the datatype and null value precense in the dataframe.\n",
    "lap_data.info()"
   ]
  },
  {
   "cell_type": "code",
   "execution_count": 173,
   "id": "c1412df0",
   "metadata": {},
   "outputs": [],
   "source": [
    "## From the above analysis we can observe that there are no null values in the dataframe.\n",
    "## We can also observe the different datatypes for different attributes."
   ]
  },
  {
   "cell_type": "code",
   "execution_count": 174,
   "id": "e1864dca",
   "metadata": {},
   "outputs": [
    {
     "data": {
      "text/plain": [
       "Manufacturer             0\n",
       "IntelCore(i-)            0\n",
       "IntelCoreGen             0\n",
       "processing speed(GHz)    0\n",
       "Ram(gb)                  0\n",
       "HDD(gb)                  0\n",
       "SSD(gb)                  0\n",
       "Graphics(gb)             0\n",
       "ScreenSize(inch)         0\n",
       "Price                    0\n",
       "dtype: int64"
      ]
     },
     "execution_count": 174,
     "metadata": {},
     "output_type": "execute_result"
    }
   ],
   "source": [
    "## Reverifying the precense of null values.\n",
    "lap_data.isnull().sum()"
   ]
  },
  {
   "cell_type": "code",
   "execution_count": 175,
   "id": "d15d93aa",
   "metadata": {},
   "outputs": [],
   "source": [
    "## No null values are present."
   ]
  },
  {
   "cell_type": "code",
   "execution_count": 176,
   "id": "f0113dcc",
   "metadata": {},
   "outputs": [
    {
     "data": {
      "text/plain": [
       "Index(['Manufacturer', 'IntelCore(i-)', 'IntelCoreGen',\n",
       "       'processing speed(GHz)', 'Ram(gb)', 'HDD(gb)', 'SSD(gb)',\n",
       "       'Graphics(gb)', 'ScreenSize(inch)', 'Price'],\n",
       "      dtype='object')"
      ]
     },
     "execution_count": 176,
     "metadata": {},
     "output_type": "execute_result"
    }
   ],
   "source": [
    "## Different attributes.\n",
    "col= lap_data.columns\n",
    "col"
   ]
  },
  {
   "cell_type": "code",
   "execution_count": 177,
   "id": "2ffe3a42",
   "metadata": {},
   "outputs": [
    {
     "data": {
      "text/plain": [
       "Index(['IntelCore(i-)', 'IntelCoreGen', 'Ram(gb)', 'HDD(gb)', 'SSD(gb)',\n",
       "       'Graphics(gb)', 'Price'],\n",
       "      dtype='object')"
      ]
     },
     "execution_count": 177,
     "metadata": {},
     "output_type": "execute_result"
    }
   ],
   "source": [
    "lap_t=lap_data.select_dtypes(\"int64\")\n",
    "lap_t.columns"
   ]
  },
  {
   "cell_type": "code",
   "execution_count": 178,
   "id": "c11e7f1d",
   "metadata": {},
   "outputs": [
    {
     "data": {
      "text/plain": [
       "Index(['Manufacturer'], dtype='object')"
      ]
     },
     "execution_count": 178,
     "metadata": {},
     "output_type": "execute_result"
    }
   ],
   "source": [
    "lap_p=lap_data.select_dtypes(\"object\")\n",
    "lap_p.columns"
   ]
  },
  {
   "cell_type": "markdown",
   "id": "e29bb7c1",
   "metadata": {},
   "source": [
    "## Outlier Analysis."
   ]
  },
  {
   "cell_type": "markdown",
   "id": "e204291f",
   "metadata": {},
   "source": [
    "As it is a small dataset we dont need Outlier analysis, but if the data scales and in real world scenario if we have a dataset with several 1000's of information then the need of performing Outlier analysis becomes important and necesary."
   ]
  },
  {
   "cell_type": "code",
   "execution_count": 179,
   "id": "caf1db9a",
   "metadata": {},
   "outputs": [],
   "source": [
    "## Creating a function to do outlier analysis of the numerical features/attributes.\n",
    "def outlier_func(regex):\n",
    "    #plt.figure(figsize=[10,8])\n",
    "    sns.boxplot(data= lap_data, y=regex)\n",
    "    plt.title(\"Distribution of {}\".format(regex))\n",
    "    plt.show()"
   ]
  },
  {
   "cell_type": "code",
   "execution_count": 180,
   "id": "1d7c544d",
   "metadata": {},
   "outputs": [
    {
     "data": {
      "image/png": "[encoded data removed]",
      "text/plain": [
       "<Figure size 432x288 with 1 Axes>"
      ]
     },
     "metadata": {
      "needs_background": "light"
     },
     "output_type": "display_data"
    },
    {
     "data": {
      "image/png": "[encoded data removed]",
      "text/plain": [
       "<Figure size 432x288 with 1 Axes>"
      ]
     },
     "metadata": {
      "needs_background": "light"
     },
     "output_type": "display_data"
    },
    {
     "data": {
      "image/png": "[encoded data removed]",
      "text/plain": [
       "<Figure size 432x288 with 1 Axes>"
      ]
     },
     "metadata": {
      "needs_background": "light"
     },
     "output_type": "display_data"
    },
    {
     "data": {
      "image/png": "[encoded data removed]",
      "text/plain": [
       "<Figure size 432x288 with 1 Axes>"
      ]
     },
     "metadata": {
      "needs_background": "light"
     },
     "output_type": "display_data"
    },
    {
     "data": {
      "image/png": "[encoded data removed]",
      "text/plain": [
       "<Figure size 432x288 with 1 Axes>"
      ]
     },
     "metadata": {
      "needs_background": "light"
     },
     "output_type": "display_data"
    },
    {
     "data": {
      "image/png": "[encoded data removed]",
      "text/plain": [
       "<Figure size 432x288 with 1 Axes>"
      ]
     },
     "metadata": {
      "needs_background": "light"
     },
     "output_type": "display_data"
    },
    {
     "data": {
      "image/png": "[encoded data removed]",
      "text/plain": [
       "<Figure size 432x288 with 1 Axes>"
      ]
     },
     "metadata": {
      "needs_background": "light"
     },
     "output_type": "display_data"
    }
   ],
   "source": [
    "## Using a for loop to create the boxplot of various numerical attributes by calling the \"outlier_func\" function. \n",
    "for i in lap_t:\n",
    "    outlier_func(i)"
   ]
  },
  {
   "cell_type": "code",
   "execution_count": 181,
   "id": "1fdc6009",
   "metadata": {},
   "outputs": [],
   "source": [
    "## From the above dataset we dont see any outlier.\n",
    "## If we had outliers depending upon the use case we can consider a particular cutoff and remove them.\n",
    "## Yet in practical world outliers are not removed as depending upon the business type those outliers might signify some important information."
   ]
  },
  {
   "cell_type": "markdown",
   "id": "ec5ecb4f",
   "metadata": {},
   "source": [
    "## EDA"
   ]
  },
  {
   "cell_type": "markdown",
   "id": "28aabe53",
   "metadata": {},
   "source": [
    "### Univariate Analysis."
   ]
  },
  {
   "cell_type": "code",
   "execution_count": 182,
   "id": "eb23a3f2",
   "metadata": {},
   "outputs": [
    {
     "data": {
      "text/plain": [
       "Index(['IntelCore(i-)', 'IntelCoreGen', 'Ram(gb)', 'HDD(gb)', 'SSD(gb)',\n",
       "       'Graphics(gb)', 'Price'],\n",
       "      dtype='object')"
      ]
     },
     "execution_count": 182,
     "metadata": {},
     "output_type": "execute_result"
    }
   ],
   "source": [
    "lap_data.select_dtypes(\"int64\").columns"
   ]
  },
  {
   "cell_type": "code",
   "execution_count": 183,
   "id": "ddd50786",
   "metadata": {},
   "outputs": [],
   "source": [
    "## Performing Univariate Analysis on Numerical Attributes."
   ]
  },
  {
   "cell_type": "code",
   "execution_count": 184,
   "id": "aa4d2783",
   "metadata": {},
   "outputs": [
    {
     "data": {
      "image/png": "[encoded data removed]",
      "text/plain": [
       "<Figure size 720x432 with 1 Axes>"
      ]
     },
     "metadata": {
      "needs_background": "light"
     },
     "output_type": "display_data"
    }
   ],
   "source": [
    "## Distribution of \"IntelCore(i-)\" attribute.\n",
    "plt.figure(figsize=(10,6))\n",
    "sns.countplot(data=lap_data, x='IntelCore(i-)', color='grey' )\n",
    "plt.title(\"Distribution of IntelCore(i-)\")\n",
    "plt.show()"
   ]
  },
  {
   "cell_type": "markdown",
   "id": "47113ccd",
   "metadata": {},
   "source": [
    "#### Inference:-\n",
    "\n",
    "- From the above analysis we can observe that 'IntelCore(i-3)' has the highest count among all the other processor types."
   ]
  },
  {
   "cell_type": "code",
   "execution_count": 185,
   "id": "53a5292f",
   "metadata": {
    "scrolled": true
   },
   "outputs": [
    {
     "data": {
      "image/png": "[encoded data removed]",
      "text/plain": [
       "<Figure size 720x432 with 1 Axes>"
      ]
     },
     "metadata": {
      "needs_background": "light"
     },
     "output_type": "display_data"
    }
   ],
   "source": [
    "## Distribution of \"IntelCoreGen\" attribute.\n",
    "plt.figure(figsize=(10,6))\n",
    "sns.countplot(data=lap_data, x='IntelCoreGen', color='grey' )\n",
    "plt.title(\"Distribution of IntelCore(i-)\")\n",
    "plt.show()"
   ]
  },
  {
   "cell_type": "markdown",
   "id": "0f4da413",
   "metadata": {},
   "source": [
    "#### Inference:-\n",
    "\n",
    "- From the above analysis we can observe that Generation 7 has the highest count among all the other Intel Core Generation types.\n",
    "- The one with the second highest count is Generation 9.\n",
    "- The Intel Core Generation with the lowest count is 4."
   ]
  },
  {
   "cell_type": "code",
   "execution_count": 186,
   "id": "1ca15df3",
   "metadata": {},
   "outputs": [
    {
     "data": {
      "image/png": "[encoded data removed]",
      "text/plain": [
       "<Figure size 720x432 with 1 Axes>"
      ]
     },
     "metadata": {
      "needs_background": "light"
     },
     "output_type": "display_data"
    }
   ],
   "source": [
    "## Distribution of \"Ram(gb)\" attribute.\n",
    "plt.figure(figsize=(10,6))\n",
    "sns.countplot(data=lap_data, x='Ram(gb)', color='grey' )\n",
    "plt.title(\"Distribution of Ram(gb)\")\n",
    "plt.show()"
   ]
  },
  {
   "cell_type": "markdown",
   "id": "c2bf695b",
   "metadata": {},
   "source": [
    "#### Inference:-\n",
    "\n",
    "- From the above analysis we can observe that Ram with 8GB specs has the highest count."
   ]
  },
  {
   "cell_type": "code",
   "execution_count": 187,
   "id": "5879126c",
   "metadata": {},
   "outputs": [
    {
     "data": {
      "image/png": "[encoded data removed]",
      "text/plain": [
       "<Figure size 720x432 with 1 Axes>"
      ]
     },
     "metadata": {
      "needs_background": "light"
     },
     "output_type": "display_data"
    }
   ],
   "source": [
    "## Distribution of \"HDD(gb)\" attribute.\n",
    "plt.figure(figsize=(10,6))\n",
    "sns.countplot(data=lap_data, x='HDD(gb)', color='grey' )\n",
    "plt.title(\"Distribution of HDD(gb)\")\n",
    "plt.show()"
   ]
  },
  {
   "cell_type": "markdown",
   "id": "eaded99a",
   "metadata": {},
   "source": [
    "#### Inference:-\n",
    "- From the above analysis we can observe that the HDD drives of 1000gb has the highest count."
   ]
  },
  {
   "cell_type": "code",
   "execution_count": 188,
   "id": "3cf1ed47",
   "metadata": {},
   "outputs": [
    {
     "data": {
      "image/png": "[encoded data removed]",
      "text/plain": [
       "<Figure size 720x432 with 1 Axes>"
      ]
     },
     "metadata": {
      "needs_background": "light"
     },
     "output_type": "display_data"
    }
   ],
   "source": [
    "## Distribution of \"SSD(gb)\" attribute.\n",
    "plt.figure(figsize=(10,6))\n",
    "sns.countplot(data=lap_data, x='SSD(gb)', color='grey' )\n",
    "plt.title(\"Distribution of SSD(gb)\")\n",
    "plt.show()"
   ]
  },
  {
   "cell_type": "markdown",
   "id": "000af970",
   "metadata": {},
   "source": [
    "#### Inference:-\n",
    "- From the above analysis we can observe that most specs dont include SSD drives hence the count is less.\n",
    "- Out of the all the SSD drives which have an asigned space we can observe SSD drives with 256GB have highest count."
   ]
  },
  {
   "cell_type": "code",
   "execution_count": 189,
   "id": "fe2e81c0",
   "metadata": {},
   "outputs": [
    {
     "data": {
      "image/png": "[encoded data removed]",
      "text/plain": [
       "<Figure size 720x432 with 1 Axes>"
      ]
     },
     "metadata": {
      "needs_background": "light"
     },
     "output_type": "display_data"
    }
   ],
   "source": [
    "## Distribution of \"Graphics(gb)\" attribute.\n",
    "plt.figure(figsize=(10,6))\n",
    "sns.countplot(data=lap_data, x='Graphics(gb)', color='grey' )\n",
    "plt.title(\"Distribution of Graphics(gb)\")\n",
    "plt.show()"
   ]
  },
  {
   "cell_type": "markdown",
   "id": "3cd94d6d",
   "metadata": {},
   "source": [
    "#### Inference:-\n",
    "- From the above analysis we can observe that most specs dont include Graphics hence the count is less.\n",
    "- Out of the all the Grpaghic specs which have an asigned space we can observe Graphic spec with 4gb have the highest count."
   ]
  },
  {
   "cell_type": "code",
   "execution_count": 190,
   "id": "b9a53199",
   "metadata": {},
   "outputs": [
    {
     "data": {
      "image/png": "[encoded data removed]",
      "text/plain": [
       "<Figure size 720x432 with 1 Axes>"
      ]
     },
     "metadata": {
      "needs_background": "light"
     },
     "output_type": "display_data"
    }
   ],
   "source": [
    "## Distribution of \"Price\" attribute.\n",
    "plt.figure(figsize=(10,6))\n",
    "sns.distplot((lap_data['Price']))\n",
    "plt.title(\"Distribution of Price\")\n",
    "plt.show()"
   ]
  },
  {
   "cell_type": "code",
   "execution_count": null,
   "id": "5329e7e3",
   "metadata": {},
   "outputs": [],
   "source": []
  },
  {
   "cell_type": "code",
   "execution_count": 191,
   "id": "adcbd54e",
   "metadata": {},
   "outputs": [
    {
     "data": {
      "image/png": "[encoded data removed]",
      "text/plain": [
       "<Figure size 720x432 with 1 Axes>"
      ]
     },
     "metadata": {},
     "output_type": "display_data"
    }
   ],
   "source": [
    "## Distribution of \"Manufacturer\" attribute.\n",
    "plt.figure(figsize=(10,6))\n",
    "lap_data['Manufacturer'].value_counts().plot.pie()\n",
    "plt.title(\"Distribution of Manufacturer\")\n",
    "plt.legend()\n",
    "plt.show()"
   ]
  },
  {
   "cell_type": "markdown",
   "id": "27c746ad",
   "metadata": {},
   "source": [
    "#### Inference:-\n",
    "\n",
    "- From the above analysis we can observe the approximate distribution of the manfacturers in the dataframe."
   ]
  },
  {
   "cell_type": "markdown",
   "id": "5bd2471f",
   "metadata": {},
   "source": [
    "## Bivariate and Multivariate Analysis."
   ]
  },
  {
   "cell_type": "code",
   "execution_count": 192,
   "id": "b184a7a6",
   "metadata": {},
   "outputs": [
    {
     "data": {
      "text/plain": [
       "<seaborn.axisgrid.PairGrid at 0x22634331dc0>"
      ]
     },
     "execution_count": 192,
     "metadata": {},
     "output_type": "execute_result"
    },
    {
     "data": {
      "image/png": "[encoded data removed]",
      "text/plain": [
       "<Figure size 1260x1260 with 56 Axes>"
      ]
     },
     "metadata": {
      "needs_background": "light"
     },
     "output_type": "display_data"
    }
   ],
   "source": [
    "##### Using pair plot to analyze the effect of numerical attributes on each other.\n",
    "sns.pairplot(lap_t)"
   ]
  },
  {
   "cell_type": "code",
   "execution_count": 196,
   "id": "60a7d471",
   "metadata": {},
   "outputs": [],
   "source": [
    "label_encoder = preprocessing.LabelEncoder()\n",
    "lap_data['Manufacturer'] = lap_data['Manufacturer'].astype('|S')\n",
    "lap_data['Manufacturer'] = label_encoder.fit_transform(lap_data['Manufacturer'])"
   ]
  },
  {
   "cell_type": "code",
   "execution_count": 198,
   "id": "7c8c0d32",
   "metadata": {},
   "outputs": [
    {
     "data": {
      "text/html": [
       "<div>\n",
       "<style scoped>\n",
       "    .dataframe tbody tr th:only-of-type {\n",
       "        vertical-align: middle;\n",
       "    }\n",
       "\n",
       "    .dataframe tbody tr th {\n",
       "        vertical-align: top;\n",
       "    }\n",
       "\n",
       "    .dataframe thead th {\n",
       "        text-align: right;\n",
       "    }\n",
       "</style>\n",
       "<table border=\"1\" class=\"dataframe\">\n",
       "  <thead>\n",
       "    <tr style=\"text-align: right;\">\n",
       "      <th></th>\n",
       "      <th>VIF</th>\n",
       "      <th>Features</th>\n",
       "    </tr>\n",
       "  </thead>\n",
       "  <tbody>\n",
       "    <tr>\n",
       "      <th>0</th>\n",
       "      <td>4.830255</td>\n",
       "      <td>Manufacturer</td>\n",
       "    </tr>\n",
       "    <tr>\n",
       "      <th>1</th>\n",
       "      <td>40.647852</td>\n",
       "      <td>IntelCore(i-)</td>\n",
       "    </tr>\n",
       "    <tr>\n",
       "      <th>2</th>\n",
       "      <td>74.128093</td>\n",
       "      <td>IntelCoreGen</td>\n",
       "    </tr>\n",
       "    <tr>\n",
       "      <th>3</th>\n",
       "      <td>37.604507</td>\n",
       "      <td>processing speed(GHz)</td>\n",
       "    </tr>\n",
       "    <tr>\n",
       "      <th>4</th>\n",
       "      <td>7.636092</td>\n",
       "      <td>Ram(gb)</td>\n",
       "    </tr>\n",
       "    <tr>\n",
       "      <th>5</th>\n",
       "      <td>65.612904</td>\n",
       "      <td>HDD(gb)</td>\n",
       "    </tr>\n",
       "    <tr>\n",
       "      <th>6</th>\n",
       "      <td>4.828394</td>\n",
       "      <td>SSD(gb)</td>\n",
       "    </tr>\n",
       "    <tr>\n",
       "      <th>7</th>\n",
       "      <td>9.230363</td>\n",
       "      <td>Graphics(gb)</td>\n",
       "    </tr>\n",
       "    <tr>\n",
       "      <th>8</th>\n",
       "      <td>110.209476</td>\n",
       "      <td>ScreenSize(inch)</td>\n",
       "    </tr>\n",
       "  </tbody>\n",
       "</table>\n",
       "</div>"
      ],
      "text/plain": [
       "          VIF               Features\n",
       "0    4.830255           Manufacturer\n",
       "1   40.647852          IntelCore(i-)\n",
       "2   74.128093           IntelCoreGen\n",
       "3   37.604507  processing speed(GHz)\n",
       "4    7.636092                Ram(gb)\n",
       "5   65.612904                HDD(gb)\n",
       "6    4.828394                SSD(gb)\n",
       "7    9.230363           Graphics(gb)\n",
       "8  110.209476       ScreenSize(inch)"
      ]
     },
     "execution_count": 198,
     "metadata": {},
     "output_type": "execute_result"
    }
   ],
   "source": [
    "# checking vif\n",
    "variables = lap_data[['Manufacturer','IntelCore(i-)', 'IntelCoreGen',\n",
    "       'processing speed(GHz)', 'Ram(gb)', 'HDD(gb)', 'SSD(gb)',\n",
    "       'Graphics(gb)', 'ScreenSize(inch)']]\n",
    "vif = pd.DataFrame()\n",
    "vif['VIF'] = [variance_inflation_factor(variables.values, i) for i in range(variables.shape[1])]\n",
    "vif['Features'] = variables.columns\n",
    "\n",
    "vif"
   ]
  },
  {
   "cell_type": "code",
   "execution_count": 199,
   "id": "fab4427b",
   "metadata": {},
   "outputs": [],
   "source": [
    "## Removing the VIF values above 10"
   ]
  },
  {
   "cell_type": "code",
   "execution_count": 200,
   "id": "0f317598",
   "metadata": {},
   "outputs": [],
   "source": [
    "# now, we'll drop columns which have vif>10\n",
    "lap_data = lap_data.drop(['IntelCore(i-)','IntelCoreGen','processing speed(GHz)','HDD(gb)','ScreenSize(inch)'], axis=1)"
   ]
  },
  {
   "cell_type": "code",
   "execution_count": 201,
   "id": "ec087734",
   "metadata": {},
   "outputs": [
    {
     "data": {
      "text/html": [
       "<div>\n",
       "<style scoped>\n",
       "    .dataframe tbody tr th:only-of-type {\n",
       "        vertical-align: middle;\n",
       "    }\n",
       "\n",
       "    .dataframe tbody tr th {\n",
       "        vertical-align: top;\n",
       "    }\n",
       "\n",
       "    .dataframe thead th {\n",
       "        text-align: right;\n",
       "    }\n",
       "</style>\n",
       "<table border=\"1\" class=\"dataframe\">\n",
       "  <thead>\n",
       "    <tr style=\"text-align: right;\">\n",
       "      <th></th>\n",
       "      <th>Manufacturer</th>\n",
       "      <th>Ram(gb)</th>\n",
       "      <th>SSD(gb)</th>\n",
       "      <th>Graphics(gb)</th>\n",
       "      <th>Price</th>\n",
       "    </tr>\n",
       "  </thead>\n",
       "  <tbody>\n",
       "    <tr>\n",
       "      <th>0</th>\n",
       "      <td>1</td>\n",
       "      <td>4</td>\n",
       "      <td>0</td>\n",
       "      <td>0</td>\n",
       "      <td>39057</td>\n",
       "    </tr>\n",
       "    <tr>\n",
       "      <th>1</th>\n",
       "      <td>1</td>\n",
       "      <td>4</td>\n",
       "      <td>0</td>\n",
       "      <td>0</td>\n",
       "      <td>45141</td>\n",
       "    </tr>\n",
       "    <tr>\n",
       "      <th>2</th>\n",
       "      <td>2</td>\n",
       "      <td>8</td>\n",
       "      <td>256</td>\n",
       "      <td>0</td>\n",
       "      <td>35999</td>\n",
       "    </tr>\n",
       "    <tr>\n",
       "      <th>3</th>\n",
       "      <td>0</td>\n",
       "      <td>4</td>\n",
       "      <td>0</td>\n",
       "      <td>0</td>\n",
       "      <td>39990</td>\n",
       "    </tr>\n",
       "    <tr>\n",
       "      <th>4</th>\n",
       "      <td>2</td>\n",
       "      <td>4</td>\n",
       "      <td>0</td>\n",
       "      <td>0</td>\n",
       "      <td>36263</td>\n",
       "    </tr>\n",
       "  </tbody>\n",
       "</table>\n",
       "</div>"
      ],
      "text/plain": [
       "   Manufacturer  Ram(gb)  SSD(gb)  Graphics(gb)  Price\n",
       "0             1        4        0             0  39057\n",
       "1             1        4        0             0  45141\n",
       "2             2        8      256             0  35999\n",
       "3             0        4        0             0  39990\n",
       "4             2        4        0             0  36263"
      ]
     },
     "execution_count": 201,
     "metadata": {},
     "output_type": "execute_result"
    }
   ],
   "source": [
    "## Checking the dataframe post deletion.\n",
    "lap_data.head()"
   ]
  },
  {
   "cell_type": "code",
   "execution_count": 202,
   "id": "aa4f15b8",
   "metadata": {},
   "outputs": [
    {
     "data": {
      "text/plain": [
       "<AxesSubplot:>"
      ]
     },
     "execution_count": 202,
     "metadata": {},
     "output_type": "execute_result"
    },
    {
     "data": {
      "image/png": "[encoded data removed]",
      "text/plain": [
       "<Figure size 432x288 with 2 Axes>"
      ]
     },
     "metadata": {
      "needs_background": "light"
     },
     "output_type": "display_data"
    }
   ],
   "source": [
    "## Checking the heatmap\n",
    "corr_data = lap_data.corr(method='pearson')\n",
    "sns.heatmap(corr_data, annot=True)"
   ]
  },
  {
   "cell_type": "markdown",
   "id": "ad7e6be3",
   "metadata": {},
   "source": [
    "#### Inference:- \n",
    "\n",
    "- We can observe all the factors that effects the Price attribute the most."
   ]
  },
  {
   "cell_type": "code",
   "execution_count": 203,
   "id": "afe49351",
   "metadata": {},
   "outputs": [],
   "source": [
    "## Splitting the dataset into dependent attribut and independent attributes.\n",
    "## Storing the target varibale in the 'y' variable.\n",
    "y = lap_data.pop('Price')\n",
    "## Storing the remaining varibale in the 'X' variable.\n",
    "X = lap_data"
   ]
  },
  {
   "cell_type": "code",
   "execution_count": 204,
   "id": "b1cf05bc",
   "metadata": {},
   "outputs": [],
   "source": [
    "## Splitting the dataset into Train and test set.\n",
    "X_train, X_test, y_train, y_test = train_test_split(X, y, test_size = 0.2, random_state = 0)  "
   ]
  },
  {
   "cell_type": "code",
   "execution_count": 205,
   "id": "aa1b423a",
   "metadata": {},
   "outputs": [
    {
     "data": {
      "text/plain": [
       "RandomForestRegressor(random_state=0)"
      ]
     },
     "execution_count": 205,
     "metadata": {},
     "output_type": "execute_result"
    }
   ],
   "source": [
    "## Applying Random Forest Model\n",
    "regr = RandomForestRegressor(random_state=0)\n",
    "regr.fit(X, y)"
   ]
  },
  {
   "cell_type": "code",
   "execution_count": 206,
   "id": "86ab51f4",
   "metadata": {},
   "outputs": [],
   "source": [
    "## Making Prediction.\n",
    "y_pred = regr.predict(X_test)"
   ]
  },
  {
   "cell_type": "code",
   "execution_count": 207,
   "id": "0843e198",
   "metadata": {},
   "outputs": [
    {
     "data": {
      "text/plain": [
       "0.9879177200463668"
      ]
     },
     "execution_count": 207,
     "metadata": {},
     "output_type": "execute_result"
    }
   ],
   "source": [
    "## R2 score of y-test and y-pred.\n",
    "r2_score(y_test, y_pred)"
   ]
  },
  {
   "cell_type": "code",
   "execution_count": null,
   "id": "bc028610",
   "metadata": {},
   "outputs": [],
   "source": []
  }
 ],
 "metadata": {
  "kernelspec": {
   "display_name": "Python 3",
   "language": "python",
   "name": "python3"
  },
  "language_info": {
   "codemirror_mode": {
    "name": "ipython",
    "version": 3
   },
   "file_extension": ".py",
   "mimetype": "text/x-python",
   "name": "python",
   "nbconvert_exporter": "python",
   "pygments_lexer": "ipython3",
   "version": "3.8.8"
  }
 },
 "nbformat": 4,
 "nbformat_minor": 5
}
